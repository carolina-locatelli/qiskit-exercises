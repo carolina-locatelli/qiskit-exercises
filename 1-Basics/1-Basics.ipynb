{
 "cells": [
  {
   "cell_type": "markdown",
   "id": "18e93ad0",
   "metadata": {},
   "source": [
    "# WELCOME TO IBM CERTIFIED DEVELOPER EXAM "
   ]
  },
  {
   "cell_type": "markdown",
   "id": "1e7fa65d",
   "metadata": {},
   "source": [
    " **BASIC QUANTUM CIRCUIT CONSTRUCTION**"
   ]
  },
  {
   "cell_type": "markdown",
   "id": "b8d7a6c9",
   "metadata": {},
   "source": [
    "[Intro to qiskit](https://qiskit.org/documentation/intro_tutorial1.html)"
   ]
  },
  {
   "cell_type": "markdown",
   "id": "4910897f",
   "metadata": {},
   "source": [
    "[Circuit basics](https://qiskit.org/documentation/tutorials/circuits/01_circuit_basics.html)"
   ]
  },
  {
   "cell_type": "markdown",
   "id": "f95ef737",
   "metadata": {},
   "source": [
    "[Circuit_drawer documentation](https://qiskit.org/documentation/stubs/qiskit.visualization.circuit_drawer.html)"
   ]
  },
  {
   "cell_type": "markdown",
   "id": "d3a9d9ca",
   "metadata": {},
   "source": [
    "[quantumcircuit reference-must read](https://qiskit.org/documentation/stable/0.19/stubs/qiskit.circuit.QuantumCircuit.html)"
   ]
  },
  {
   "cell_type": "markdown",
   "id": "ee8b4c2e",
   "metadata": {},
   "source": [
    "[Barrier](https://qiskit.org/documentation/stable/0.40/stubs/qiskit.circuit.library.Barrier.html)"
   ]
  },
  {
   "cell_type": "markdown",
   "id": "1b8ed02a",
   "metadata": {},
   "source": [
    "[Qiskit Terra API reference](https://qiskit.org/documentation/apidoc/terra.html)"
   ]
  },
  {
   "cell_type": "markdown",
   "id": "afb6a880",
   "metadata": {},
   "source": [
    "*Before starting any concept in qiskit, double check whether you imported the libraries*"
   ]
  },
  {
   "cell_type": "markdown",
   "id": "a62f5052",
   "metadata": {},
   "source": [
    " **NOTE**\n",
    " \n",
    " *Exams are becoming more competitive*.\n",
    " *My course will cover most of the things*.\n",
    " *Still I highly recommend you to go through qiskit documentation. Every minute details are important too*."
   ]
  },
  {
   "cell_type": "markdown",
   "id": "c5c7ee27",
   "metadata": {},
   "source": [
    "**Install the latest qiskit version for better experience**\n",
    "\n",
    "**If you have already installed the qiskit but want to update to the latest version:**\n",
    "\n",
    "   **1. pip install qiskit==0.41.1**. **If 1st command doesn't work, follow the 2nd command.**\n",
    "   \n",
    "   **2. pip install qiskit ==0.41.1 --user.** **I updated qiskit with this command in conda environment** "
   ]
  },
  {
   "cell_type": "markdown",
   "id": "6d0719c8",
   "metadata": {},
   "source": [
    "Import libraries"
   ]
  },
  {
   "cell_type": "code",
   "execution_count": 1,
   "id": "dfb5a2f4",
   "metadata": {},
   "outputs": [],
   "source": [
    "import qiskit\n",
    "import numpy as np\n",
    "from qiskit import QuantumCircuit , QuantumRegister , ClassicalRegister, execute , IBMQ\n",
    "from qiskit.tools.visualization import circuit_drawer"
   ]
  },
  {
   "cell_type": "markdown",
   "id": "09be835d",
   "metadata": {},
   "source": [
    "*Quantum Circuit , QuantumRegisters, ClassicalRegisters all are a class. So, need to create an object for the class inorder to access the methods(class functions) and attributes( class variables). Object names can be any variables*."
   ]
  },
  {
   "cell_type": "markdown",
   "id": "6ad0a186",
   "metadata": {},
   "source": [
    "*Draw the circuit*"
   ]
  },
  {
   "cell_type": "markdown",
   "id": "7ced62df",
   "metadata": {},
   "source": [
    "*'mpl' , 'text' , 'latex' , 'latex_source' are the ways of drawing the circuit*"
   ]
  },
  {
   "cell_type": "code",
   "execution_count": 23,
   "id": "803459c4",
   "metadata": {},
   "outputs": [
    {
     "data": {
      "image/png": "[encoded data removed]",
      "text/plain": [
       "<Figure size 143.647x117.056 with 1 Axes>"
      ]
     },
     "execution_count": 23,
     "metadata": {},
     "output_type": "execute_result"
    }
   ],
   "source": [
    "qc = QuantumCircuit(1)\n",
    "qc.draw('mpl') # mpl-> matplotlib"
   ]
  },
  {
   "cell_type": "code",
   "execution_count": 24,
   "id": "4bb83fa7",
   "metadata": {},
   "outputs": [
    {
     "data": {
      "text/html": [
       "<pre style=\"word-wrap: normal;white-space: pre;background: #fff0;line-height: 1.1;font-family: &quot;Courier New&quot;,Courier,monospace\">   \n",
       "q: \n",
       "   </pre>"
      ],
      "text/plain": [
       "   \n",
       "q: \n",
       "   "
      ]
     },
     "execution_count": 24,
     "metadata": {},
     "output_type": "execute_result"
    }
   ],
   "source": [
    "qc = QuantumCircuit(1)\n",
    "qc.draw(output = 'text')"
   ]
  },
  {
   "cell_type": "markdown",
   "id": "3b7a35ac",
   "metadata": {},
   "source": [
    "*drawing the circuit using : Circuit_drawer()*"
   ]
  },
  {
   "cell_type": "code",
   "execution_count": 26,
   "id": "c86da062",
   "metadata": {},
   "outputs": [
    {
     "data": {
      "image/png": "[encoded data removed]",
      "text/plain": [
       "<Figure size 143.647x117.056 with 1 Axes>"
      ]
     },
     "execution_count": 26,
     "metadata": {},
     "output_type": "execute_result"
    }
   ],
   "source": [
    "circuit_drawer(qc, output='mpl' )"
   ]
  },
  {
   "cell_type": "code",
   "execution_count": 32,
   "id": "b83bafc3",
   "metadata": {},
   "outputs": [
    {
     "data": {
      "text/html": [
       "<pre style=\"word-wrap: normal;white-space: pre;background: #fff0;line-height: 1.1;font-family: &quot;Courier New&quot;,Courier,monospace\">   \n",
       "q: \n",
       "   </pre>"
      ],
      "text/plain": [
       "   \n",
       "q: \n",
       "   "
      ]
     },
     "execution_count": 32,
     "metadata": {},
     "output_type": "execute_result"
    }
   ],
   "source": [
    "circuit_drawer(qc , output = 'text')"
   ]
  },
  {
   "cell_type": "markdown",
   "id": "52486c0e",
   "metadata": {},
   "source": [
    "*circuit_drawer is not an object of QuantumCircuit class. So, calling the object name which is created for QuantumCircuit will raise an error*"
   ]
  },
  {
   "cell_type": "markdown",
   "id": "20b9163a",
   "metadata": {},
   "source": [
    "**DISPLAYING THE ERROR MESSAGE:**"
   ]
  },
  {
   "cell_type": "code",
   "execution_count": 28,
   "id": "116c7579",
   "metadata": {},
   "outputs": [
    {
     "ename": "AttributeError",
     "evalue": "'QuantumCircuit' object has no attribute 'circuit_drawer'",
     "output_type": "error",
     "traceback": [
      "\u001b[1;31m---------------------------------------------------------------------------\u001b[0m",
      "\u001b[1;31mAttributeError\u001b[0m                            Traceback (most recent call last)",
      "Input \u001b[1;32mIn [28]\u001b[0m, in \u001b[0;36m<cell line: 1>\u001b[1;34m()\u001b[0m\n\u001b[1;32m----> 1\u001b[0m \u001b[43mqc\u001b[49m\u001b[38;5;241;43m.\u001b[39;49m\u001b[43mcircuit_drawer\u001b[49m(output \u001b[38;5;241m=\u001b[39m \u001b[38;5;124m'\u001b[39m\u001b[38;5;124mmpl\u001b[39m\u001b[38;5;124m'\u001b[39m)\n",
      "\u001b[1;31mAttributeError\u001b[0m: 'QuantumCircuit' object has no attribute 'circuit_drawer'"
     ]
    }
   ],
   "source": [
    "qc.circuit_drawer(output = 'mpl')"
   ]
  },
  {
   "cell_type": "markdown",
   "id": "b2b9426e",
   "metadata": {},
   "source": [
    "**SAVING  THE CIRCUIT**"
   ]
  },
  {
   "cell_type": "markdown",
   "id": "d5ce0f56",
   "metadata": {},
   "source": [
    "**NOTE - a quick check**\n",
    " \n",
    " **There are few steps do beforehand to save the circuit and open it hasslefree.**\n",
    " \n",
    " **If u want to open the file in pdf -> make sure to have the output ='mpl'. Else, it will raise an error.**\n",
    " \n",
    " **You can't open a 'text' in pdf or png. Because, the files are invalid to be opened. Seperate code is there to save a      circuit in text format.**\n",
    " \n",
    " **Saved file is available in your present working directory folder.**"
   ]
  },
  {
   "cell_type": "code",
   "execution_count": 36,
   "id": "2edb4e74",
   "metadata": {},
   "outputs": [
    {
     "data": {
      "image/png": "[encoded data removed]",
      "text/plain": [
       "<Figure size 162.08x284.278 with 1 Axes>"
      ]
     },
     "execution_count": 36,
     "metadata": {},
     "output_type": "execute_result"
    }
   ],
   "source": [
    "qc = QuantumCircuit(3)\n",
    "qc.draw('mpl', filename ='circuit.pdf')"
   ]
  },
  {
   "cell_type": "code",
   "execution_count": 37,
   "id": "6e8acc55",
   "metadata": {},
   "outputs": [
    {
     "data": {
      "image/png": "[encoded data removed]",
      "text/plain": [
       "<Figure size 162.08x284.278 with 1 Axes>"
      ]
     },
     "execution_count": 37,
     "metadata": {},
     "output_type": "execute_result"
    }
   ],
   "source": [
    "qc = QuantumCircuit(3)\n",
    "qc.draw('mpl' , filename ='circuit.png')"
   ]
  },
  {
   "cell_type": "code",
   "execution_count": 38,
   "id": "04028398",
   "metadata": {
    "scrolled": true
   },
   "outputs": [
    {
     "data": {
      "text/html": [
       "<pre style=\"word-wrap: normal;white-space: pre;background: #fff0;line-height: 1.1;font-family: &quot;Courier New&quot;,Courier,monospace\">     \n",
       "q_0: \n",
       "     \n",
       "q_1: \n",
       "     </pre>"
      ],
      "text/plain": [
       "     \n",
       "q_0: \n",
       "     \n",
       "q_1: \n",
       "     "
      ]
     },
     "execution_count": 38,
     "metadata": {},
     "output_type": "execute_result"
    }
   ],
   "source": [
    "qc = QuantumCircuit(2)\n",
    "qc.draw('text', filename = 'circuit.txt')"
   ]
  },
  {
   "cell_type": "code",
   "execution_count": null,
   "id": "fd136527",
   "metadata": {},
   "outputs": [],
   "source": [
    "qc = QuantumCircuit(2)\n",
    "qc.draw('latex' , filename = 'circuit.pdf')"
   ]
  },
  {
   "cell_type": "markdown",
   "id": "61a4cae7",
   "metadata": {},
   "source": [
    "**QUANTUM REGISTER AND CLASSICAL REGISTER**"
   ]
  },
  {
   "cell_type": "markdown",
   "id": "929134e6",
   "metadata": {},
   "source": [
    "*Register is just a memory device to save the quantum states. The main purpose of quantum and classical register is to show , that there is another method to construct a quantum circuit.*"
   ]
  },
  {
   "cell_type": "code",
   "execution_count": 76,
   "id": "8cc9019f",
   "metadata": {},
   "outputs": [
    {
     "data": {
      "image/png": "[encoded data removed]",
      "text/plain": [
       "<Figure size 198.137x284.278 with 1 Axes>"
      ]
     },
     "execution_count": 76,
     "metadata": {},
     "output_type": "execute_result"
    }
   ],
   "source": [
    "qc0 = QuantumRegister(2, 'S01' , bits = None)\n",
    "qc1 = ClassicalRegister(2, 'S02', bits = None)\n",
    "qc = QuantumCircuit(qc0, qc1)\n",
    "qc.draw('mpl')"
   ]
  },
  {
   "cell_type": "markdown",
   "id": "648c2b61",
   "metadata": {},
   "source": [
    "When name is not mentioned, by default a unique name will be auto-generated from the register type."
   ]
  },
  {
   "cell_type": "code",
   "execution_count": 77,
   "id": "16ee7c04",
   "metadata": {},
   "outputs": [
    {
     "data": {
      "image/png": "[encoded data removed]",
      "text/plain": [
       "<Figure size 198.541x284.278 with 1 Axes>"
      ]
     },
     "execution_count": 77,
     "metadata": {},
     "output_type": "execute_result"
    }
   ],
   "source": [
    "qc0 = QuantumRegister(2)\n",
    "qc1 = ClassicalRegister(2)\n",
    "qc = QuantumCircuit(qc0,qc1)\n",
    "qc.draw('mpl')\n"
   ]
  },
  {
   "cell_type": "code",
   "execution_count": 78,
   "id": "6874fbb2",
   "metadata": {},
   "outputs": [
    {
     "data": {
      "image/png": "[encoded data removed]",
      "text/plain": [
       "<Figure size 198.541x284.278 with 1 Axes>"
      ]
     },
     "execution_count": 78,
     "metadata": {},
     "output_type": "execute_result"
    }
   ],
   "source": [
    "cr = QuantumRegister(2)\n",
    "qr = ClassicalRegister(2)\n",
    "qc = QuantumCircuit(cr,qr)\n",
    "qc.draw('mpl')\n"
   ]
  },
  {
   "cell_type": "code",
   "execution_count": 79,
   "id": "99715cb1",
   "metadata": {},
   "outputs": [
    {
     "data": {
      "image/png": "[encoded data removed]",
      "text/plain": [
       "<Figure size 198.743x451.5 with 1 Axes>"
      ]
     },
     "execution_count": 79,
     "metadata": {},
     "output_type": "execute_result"
    }
   ],
   "source": [
    "qc = QuantumCircuit(QuantumRegister(4) , ClassicalRegister(4))\n",
    "qc.draw('mpl')"
   ]
  },
  {
   "cell_type": "markdown",
   "id": "95e53503",
   "metadata": {},
   "source": [
    "*Barrier and Measurement*"
   ]
  },
  {
   "cell_type": "markdown",
   "id": "a8241671",
   "metadata": {},
   "source": [
    "*No need to import libraries for barrier, measurement. Both are the methods of Quantum Circuit class*."
   ]
  },
  {
   "cell_type": "markdown",
   "id": "6e93ae87",
   "metadata": {},
   "source": [
    "*Two **methods** under QuantumCircuit class are available for **measurement** of circuit : measure_all() and measure(). Barrier is applied accoriding to what measurement method (measure_all() or measure() we applied)*.\n"
   ]
  },
  {
   "cell_type": "markdown",
   "id": "658c92a1",
   "metadata": {},
   "source": [
    "**BARRIER**"
   ]
  },
  {
   "cell_type": "code",
   "execution_count": 10,
   "id": "5ce7371d",
   "metadata": {},
   "outputs": [
    {
     "data": {
      "image/png": "[encoded data removed]",
      "text/plain": [
       "<Figure size 222.318x451.5 with 1 Axes>"
      ]
     },
     "execution_count": 10,
     "metadata": {},
     "output_type": "execute_result"
    }
   ],
   "source": [
    "qc = QuantumCircuit(QuantumRegister(4), ClassicalRegister(4))\n",
    "qc.barrier()\n",
    "qc.draw('mpl')"
   ]
  },
  {
   "cell_type": "code",
   "execution_count": 12,
   "id": "8fd4081e",
   "metadata": {},
   "outputs": [
    {
     "data": {
      "image/png": "[encoded data removed]",
      "text/plain": [
       "<Figure size 203.885x367.889 with 1 Axes>"
      ]
     },
     "execution_count": 12,
     "metadata": {},
     "output_type": "execute_result"
    }
   ],
   "source": [
    "qc = QuantumCircuit(4)\n",
    "qc.barrier(0,1,3)\n",
    "qc.draw('mpl')"
   ]
  },
  {
   "cell_type": "code",
   "execution_count": 13,
   "id": "76270399",
   "metadata": {},
   "outputs": [
    {
     "data": {
      "image/png": "[encoded data removed]",
      "text/plain": [
       "<Figure size 203.885x451.5 with 1 Axes>"
      ]
     },
     "execution_count": 13,
     "metadata": {},
     "output_type": "execute_result"
    }
   ],
   "source": [
    "qc = QuantumCircuit(5)\n",
    "qc.barrier(range(0,5,2))\n",
    "qc.draw('mpl')"
   ]
  },
  {
   "cell_type": "code",
   "execution_count": 14,
   "id": "0fa528d8",
   "metadata": {},
   "outputs": [
    {
     "data": {
      "image/png": "[encoded data removed]",
      "text/plain": [
       "<Figure size 203.885x367.889 with 1 Axes>"
      ]
     },
     "execution_count": 14,
     "metadata": {},
     "output_type": "execute_result"
    }
   ],
   "source": [
    "qc = QuantumCircuit(4)\n",
    "qc.barrier(-4,-1)\n",
    "qc.draw('mpl')"
   ]
  },
  {
   "cell_type": "markdown",
   "id": "250b85e2",
   "metadata": {},
   "source": [
    "**measure_all() --> meas register formed , all the qubits measurements go to meas register, barrier formed by default..;**\n",
    "**measure() -->  No barrier is formed by default. classical register is formed.**"
   ]
  },
  {
   "cell_type": "code",
   "execution_count": 17,
   "id": "b0aa4893",
   "metadata": {},
   "outputs": [
    {
     "data": {
      "image/png": "[encoded data removed]",
      "text/plain": [
       "<Figure size 580.387x451.5 with 1 Axes>"
      ]
     },
     "execution_count": 17,
     "metadata": {},
     "output_type": "execute_result"
    }
   ],
   "source": [
    "qc = QuantumCircuit(4)\n",
    "qc.measure_all()\n",
    "qc.draw('mpl')"
   ]
  },
  {
   "cell_type": "code",
   "execution_count": 18,
   "id": "e66b953d",
   "metadata": {},
   "outputs": [
    {
     "data": {
      "image/png": "[encoded data removed]",
      "text/plain": [
       "<Figure size 454.719x451.5 with 1 Axes>"
      ]
     },
     "execution_count": 18,
     "metadata": {},
     "output_type": "execute_result"
    }
   ],
   "source": [
    "qc = QuantumCircuit(4,4)\n",
    "qc.measure([0,1,2,3], [0,1,2,3])\n",
    "qc.draw('mpl')\n"
   ]
  },
  {
   "cell_type": "code",
   "execution_count": 19,
   "id": "9510486d",
   "metadata": {},
   "outputs": [
    {
     "data": {
      "image/png": "[encoded data removed]",
      "text/plain": [
       "<Figure size 621.941x367.889 with 1 Axes>"
      ]
     },
     "execution_count": 19,
     "metadata": {},
     "output_type": "execute_result"
    }
   ],
   "source": [
    "qc = QuantumCircuit(3,3)\n",
    "qc.measure(0,0)\n",
    "qc.barrier()\n",
    "qc.measure(1,1)\n",
    "qc.barrier()\n",
    "qc.measure(2,2)\n",
    "qc.barrier()\n",
    "qc.draw('mpl')"
   ]
  },
  {
   "cell_type": "code",
   "execution_count": null,
   "id": "bcbe09a0",
   "metadata": {},
   "outputs": [],
   "source": []
  }
 ],
 "metadata": {
  "kernelspec": {
   "display_name": "Python 3 (ipykernel)",
   "language": "python",
   "name": "python3"
  },
  "language_info": {
   "codemirror_mode": {
    "name": "ipython",
    "version": 3
   },
   "file_extension": ".py",
   "mimetype": "text/x-python",
   "name": "python",
   "nbconvert_exporter": "python",
   "pygments_lexer": "ipython3",
   "version": "3.9.13"
  }
 },
 "nbformat": 4,
 "nbformat_minor": 5
}
