{
 "cells": [
  {
   "attachments": {},
   "cell_type": "markdown",
   "metadata": {},
   "source": [
    "# FIDELITY"
   ]
  },
  {
   "cell_type": "code",
   "execution_count": 1,
   "metadata": {},
   "outputs": [],
   "source": [
    "from qiskit import QuantumCircuit, execute, Aer, BasicAer\n",
    "from qiskit.quantum_info import random_statevector, Operator, Pauli\n",
    "from qiskit.quantum_info import state_fidelity, average_gate_fidelity, process_fidelity"
   ]
  },
  {
   "cell_type": "code",
   "execution_count": 2,
   "metadata": {},
   "outputs": [
    {
     "data": {
      "text/plain": [
       "[AerSimulator('aer_simulator'),\n",
       " AerSimulator('aer_simulator_statevector'),\n",
       " AerSimulator('aer_simulator_density_matrix'),\n",
       " AerSimulator('aer_simulator_stabilizer'),\n",
       " AerSimulator('aer_simulator_matrix_product_state'),\n",
       " AerSimulator('aer_simulator_extended_stabilizer'),\n",
       " AerSimulator('aer_simulator_unitary'),\n",
       " AerSimulator('aer_simulator_superop'),\n",
       " QasmSimulator('qasm_simulator'),\n",
       " StatevectorSimulator('statevector_simulator'),\n",
       " UnitarySimulator('unitary_simulator'),\n",
       " PulseSimulator('pulse_simulator')]"
      ]
     },
     "execution_count": 2,
     "metadata": {},
     "output_type": "execute_result"
    }
   ],
   "source": [
    "Aer.backends()"
   ]
  },
  {
   "cell_type": "code",
   "execution_count": 3,
   "metadata": {},
   "outputs": [
    {
     "data": {
      "text/plain": [
       "[<QasmSimulatorPy('qasm_simulator')>,\n",
       " <StatevectorSimulatorPy('statevector_simulator')>,\n",
       " <UnitarySimulatorPy('unitary_simulator')>]"
      ]
     },
     "execution_count": 3,
     "metadata": {},
     "output_type": "execute_result"
    }
   ],
   "source": [
    "BasicAer.backends()"
   ]
  },
  {
   "attachments": {},
   "cell_type": "markdown",
   "metadata": {},
   "source": [
    "# State fidelity"
   ]
  },
  {
   "cell_type": "code",
   "execution_count": 4,
   "metadata": {},
   "outputs": [
    {
     "name": "stdout",
     "output_type": "stream",
     "text": [
      "Fidelity:  0.12334914966439714\n"
     ]
    }
   ],
   "source": [
    "from qiskit import QuantumCircuit, execute, Aer\n",
    "from qiskit.quantum_info import state_fidelity, random_statevector\n",
    "\n",
    "#define a quantum circuit\n",
    "qc=QuantumCircuit(2)\n",
    "qc.h(0)\n",
    "qc.cx(0,1)\n",
    "\n",
    "#simulate the quantum circuit\n",
    "simulator = Aer.get_backend('statevector_simulator')\n",
    "result = execute(qc,simulator).result()\n",
    "output_state = result.get_statevector(qc)\n",
    "\n",
    "#define the target state (es. a Bell state)\n",
    "target_state = random_statevector(4).data\n",
    "\n",
    "#calculate the fidelity\n",
    "fidelity = state_fidelity(output_state, target_state)\n",
    "print(\"Fidelity: \", fidelity)"
   ]
  },
  {
   "attachments": {},
   "cell_type": "markdown",
   "metadata": {},
   "source": [
    "# Gate fidelity"
   ]
  },
  {
   "cell_type": "code",
   "execution_count": 5,
   "metadata": {},
   "outputs": [
    {
     "name": "stdout",
     "output_type": "stream",
     "text": [
      "Fidelity:  0.9999999999999996\n"
     ]
    }
   ],
   "source": [
    "#define a quantum circuit\n",
    "qc=QuantumCircuit(1)\n",
    "qc.h(0)\n",
    "\n",
    "#get the operator of the quantum circuit\n",
    "operator = Operator(qc)\n",
    "\n",
    "#define the ideal operator for a Hadamard gate\n",
    "ideal_operator = Operator.from_label('H')\n",
    "\n",
    "#calculate fidelity\n",
    "fidelity = process_fidelity(ideal_operator, operator)\n",
    "print(\"Fidelity: \", fidelity)"
   ]
  },
  {
   "attachments": {},
   "cell_type": "markdown",
   "metadata": {},
   "source": [
    "# Average gate fidelity"
   ]
  },
  {
   "cell_type": "code",
   "execution_count": 6,
   "metadata": {},
   "outputs": [
    {
     "name": "stdout",
     "output_type": "stream",
     "text": [
      "Fidelity:  0.9999999999999997\n"
     ]
    }
   ],
   "source": [
    "#define a quantum circuit\n",
    "qc=QuantumCircuit(1)\n",
    "qc.h(0)\n",
    "\n",
    "#get the operator of the quantum circuit\n",
    "operator = Operator(qc)\n",
    "\n",
    "#define the ideal operator for a Hadamard gate\n",
    "ideal_operator = Operator.from_label('H')\n",
    "\n",
    "#calculate fidelity\n",
    "fidelity = average_gate_fidelity(ideal_operator, operator)\n",
    "print(\"Fidelity: \", fidelity)"
   ]
  },
  {
   "cell_type": "code",
   "execution_count": null,
   "metadata": {},
   "outputs": [],
   "source": []
  }
 ],
 "metadata": {
  "kernelspec": {
   "display_name": "Python 3",
   "language": "python",
   "name": "python3"
  },
  "language_info": {
   "codemirror_mode": {
    "name": "ipython",
    "version": 3
   },
   "file_extension": ".py",
   "mimetype": "text/x-python",
   "name": "python",
   "nbconvert_exporter": "python",
   "pygments_lexer": "ipython3",
   "version": "3.9.5"
  },
  "orig_nbformat": 4,
  "vscode": {
   "interpreter": {
    "hash": "a31ddb017d0068839d50233361dec3791b4543c1616ced57751b70bba5489ab3"
   }
  }
 },
 "nbformat": 4,
 "nbformat_minor": 2
}
