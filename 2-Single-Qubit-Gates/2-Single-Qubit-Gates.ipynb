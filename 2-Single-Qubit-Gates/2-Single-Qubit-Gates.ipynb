{
 "cells": [
  {
   "attachments": {},
   "cell_type": "markdown",
   "id": "1e7fa65d",
   "metadata": {},
   "source": [
    " # SINGLE QUBIT GATES"
   ]
  },
  {
   "attachments": {},
   "cell_type": "markdown",
   "id": "fb0902a4",
   "metadata": {},
   "source": [
    "https://qiskit.org/documentation/tutorials/circuits/3_summary_of_quantum_operations.html"
   ]
  },
  {
   "attachments": {},
   "cell_type": "markdown",
   "id": "0b6da327",
   "metadata": {},
   "source": [
    "**Import libraries**"
   ]
  },
  {
   "cell_type": "code",
   "execution_count": null,
   "id": "7d89e5d9",
   "metadata": {},
   "outputs": [],
   "source": [
    "import qiskit\n",
    "import numpy as np\n",
    "from qiskit import QuantumCircuit, Aer, ClassicalRegister, QuantumRegister\n",
    "from math import pi, sqrt\n"
   ]
  },
  {
   "attachments": {},
   "cell_type": "markdown",
   "id": "c77d3c3f",
   "metadata": {},
   "source": [
    "**qiskit version**"
   ]
  },
  {
   "cell_type": "code",
   "execution_count": null,
   "id": "8c699ce3",
   "metadata": {},
   "outputs": [],
   "source": [
    "qiskit.__qiskit_version__ # IBM QUESTION"
   ]
  },
  {
   "attachments": {},
   "cell_type": "markdown",
   "id": "d8cd6e61",
   "metadata": {},
   "source": [
    "**qiskit version tabled**"
   ]
  },
  {
   "cell_type": "code",
   "execution_count": null,
   "id": "e501a6bf",
   "metadata": {},
   "outputs": [],
   "source": [
    "import qiskit.tools.jupyter\n",
    "%qiskit_version_table\n",
    "%qiskit_copyright"
   ]
  },
  {
   "attachments": {},
   "cell_type": "markdown",
   "id": "24ffaf20",
   "metadata": {},
   "source": [
    "**All the single and multiqubit gates are methods of QuantumCircuit class, so no additional imports are required.**\n",
    "\n",
    "**Single qubit gates:** Pauli X, Pauli Y, Pauli Z, Identity, Hadamard, S, S dagger, T, T dagger, Rx, Ry, Rz, Phase, Unitary gate.\n",
    "\n",
    "**Little endian system:** when qubits are measured, in qiskit they must be considered in the order q2, q1, q0 and not viceversa."
   ]
  },
  {
   "attachments": {},
   "cell_type": "markdown",
   "id": "99edfb7b",
   "metadata": {},
   "source": [
    "**Pauli X gate**"
   ]
  },
  {
   "cell_type": "code",
   "execution_count": null,
   "id": "83c8de43",
   "metadata": {},
   "outputs": [],
   "source": [
    "qc = QuantumCircuit(4)\n",
    "qc.x(0)\n",
    "qc.x(3)\n",
    "qc.measure_all()\n",
    "qc.draw('mpl')"
   ]
  },
  {
   "cell_type": "code",
   "execution_count": null,
   "id": "b3a397ef",
   "metadata": {},
   "outputs": [],
   "source": [
    "qc = QuantumCircuit(4,4) #N of qubits and N of classical bits (meas)\n",
    "qc.x(0)\n",
    "qc.barrier()\n",
    "qc.x(3)\n",
    "qc.barrier()\n",
    "qc.measure(0,0)\n",
    "qc.barrier()\n",
    "qc.measure(3,3)\n",
    "qc.barrier()\n",
    "qc.draw('mpl')"
   ]
  },
  {
   "attachments": {},
   "cell_type": "markdown",
   "id": "e8c46b59",
   "metadata": {},
   "source": [
    "**Pauli Y gate**"
   ]
  },
  {
   "cell_type": "code",
   "execution_count": null,
   "id": "eb90b60a",
   "metadata": {},
   "outputs": [],
   "source": [
    "qc = QuantumCircuit(4)\n",
    "qc.y(1)\n",
    "qc.y(3)\n",
    "qc.measure_all()\n",
    "qc.draw('mpl')"
   ]
  },
  {
   "attachments": {},
   "cell_type": "markdown",
   "id": "60b76b9c",
   "metadata": {},
   "source": [
    "**Pauli Z gate**"
   ]
  },
  {
   "cell_type": "code",
   "execution_count": null,
   "id": "33c0f4a0",
   "metadata": {},
   "outputs": [],
   "source": [
    "qc = QuantumCircuit(4,4)\n",
    "qc.z(2)\n",
    "qc.barrier()\n",
    "qc.measure(2,2)\n",
    "qc.draw('mpl')"
   ]
  },
  {
   "cell_type": "code",
   "execution_count": null,
   "id": "7fd71d98",
   "metadata": {},
   "outputs": [],
   "source": [
    "qc = QuantumCircuit(4,4)\n",
    "qc.x(3)\n",
    "qc.barrier()\n",
    "qc.z(3)\n",
    "qc.measure_all()\n",
    "qc.draw('mpl')"
   ]
  },
  {
   "attachments": {},
   "cell_type": "markdown",
   "id": "edda91ff",
   "metadata": {},
   "source": [
    "**Identity gate**"
   ]
  },
  {
   "cell_type": "code",
   "execution_count": null,
   "id": "f68b562a",
   "metadata": {},
   "outputs": [],
   "source": [
    "qc = QuantumCircuit(1)\n",
    "qc.x(0)\n",
    "qc.i(0)\n",
    "qc.measure_all()\n",
    "qc.draw('mpl')"
   ]
  },
  {
   "attachments": {},
   "cell_type": "markdown",
   "id": "60dff0cc",
   "metadata": {},
   "source": [
    "**Hadamard gate**"
   ]
  },
  {
   "attachments": {},
   "cell_type": "markdown",
   "id": "311c19a0",
   "metadata": {},
   "source": [
    "Based on superposition. Probabilistic and non-deterministic state of qubits."
   ]
  },
  {
   "cell_type": "code",
   "execution_count": null,
   "id": "04dee905",
   "metadata": {},
   "outputs": [],
   "source": [
    "qc = QuantumCircuit(2)\n",
    "qc.h(1)\n",
    "qc.measure_all()\n",
    "qc.draw('mpl')"
   ]
  },
  {
   "attachments": {},
   "cell_type": "markdown",
   "id": "f83a8e14",
   "metadata": {},
   "source": [
    "**S gate**"
   ]
  },
  {
   "cell_type": "code",
   "execution_count": null,
   "id": "6a44ebcb",
   "metadata": {},
   "outputs": [],
   "source": [
    "qc = QuantumCircuit(2)\n",
    "qc.x(1)\n",
    "qc.s(1)\n",
    "qc.measure_all()\n",
    "qc.draw('mpl')\n"
   ]
  },
  {
   "attachments": {},
   "cell_type": "markdown",
   "id": "f8c9aba8",
   "metadata": {},
   "source": [
    "**S dagger gate**"
   ]
  },
  {
   "cell_type": "code",
   "execution_count": null,
   "id": "e4abcd63",
   "metadata": {},
   "outputs": [],
   "source": [
    "qc = QuantumCircuit(2)\n",
    "qc.x(1)\n",
    "qc.sdg(1)\n",
    "qc.measure_all()\n",
    "qc.draw('mpl')"
   ]
  },
  {
   "attachments": {},
   "cell_type": "markdown",
   "id": "d6a8749f",
   "metadata": {},
   "source": [
    "**T gate**"
   ]
  },
  {
   "cell_type": "code",
   "execution_count": null,
   "id": "4f43fa19",
   "metadata": {},
   "outputs": [],
   "source": [
    "qc = QuantumCircuit(2)\n",
    "qc.x(0)\n",
    "qc.z(0)\n",
    "qc.z(1)\n",
    "qc.x(1)\n",
    "qc.t(1)\n",
    "qc.measure_all()\n",
    "qc.draw('mpl')"
   ]
  },
  {
   "attachments": {},
   "cell_type": "markdown",
   "id": "aacefccd",
   "metadata": {},
   "source": [
    "**T dagger gate**"
   ]
  },
  {
   "cell_type": "code",
   "execution_count": null,
   "id": "59f82f6c",
   "metadata": {},
   "outputs": [],
   "source": [
    "qc = QuantumCircuit(2)\n",
    "qc.x(0)\n",
    "qc.z(0)\n",
    "qc.z(1)\n",
    "qc.x(1)\n",
    "qc.z(1)\n",
    "qc.tdg(1)\n",
    "qc.measure_all()\n",
    "qc.draw('mpl')"
   ]
  },
  {
   "cell_type": "markdown",
   "id": "ecd1cc15",
   "metadata": {},
   "source": [
    "**VISUALIZE TRANSITIONS**"
   ]
  },
  {
   "cell_type": "code",
   "execution_count": null,
   "id": "ae448dfd",
   "metadata": {},
   "outputs": [],
   "source": [
    "from qiskit.visualization import visualize_transition"
   ]
  },
  {
   "attachments": {},
   "cell_type": "markdown",
   "id": "7e20349b",
   "metadata": {},
   "source": [
    "**X gate**"
   ]
  },
  {
   "cell_type": "code",
   "execution_count": null,
   "id": "443d80b5",
   "metadata": {},
   "outputs": [],
   "source": [
    "qc = QuantumCircuit(1)\n",
    "qc.x(0)\n",
    "visualize_transition(qc, trace=True)"
   ]
  },
  {
   "attachments": {},
   "cell_type": "markdown",
   "id": "b9873737",
   "metadata": {},
   "source": [
    "**Y gate**"
   ]
  },
  {
   "cell_type": "code",
   "execution_count": null,
   "id": "1bb9b698",
   "metadata": {},
   "outputs": [],
   "source": [
    "qc = QuantumCircuit(1)\n",
    "qc.y(0)\n",
    "visualize_transition(qc, trace=True)"
   ]
  },
  {
   "attachments": {},
   "cell_type": "markdown",
   "id": "c87f247c",
   "metadata": {},
   "source": [
    "**Z gate**"
   ]
  },
  {
   "cell_type": "code",
   "execution_count": null,
   "id": "9c46dc2d",
   "metadata": {},
   "outputs": [],
   "source": [
    "qc = QuantumCircuit(1)\n",
    "qc.z(0)\n",
    "visualize_transition(qc, trace=True)"
   ]
  },
  {
   "attachments": {},
   "cell_type": "markdown",
   "id": "462933ec",
   "metadata": {},
   "source": [
    "**Hadamard gate**"
   ]
  },
  {
   "cell_type": "code",
   "execution_count": null,
   "id": "063b4990",
   "metadata": {},
   "outputs": [],
   "source": [
    "qc = QuantumCircuit(1)\n",
    "qc.h(0)\n",
    "visualize_transition(qc, trace=True)"
   ]
  },
  {
   "cell_type": "code",
   "execution_count": null,
   "id": "83f5b1da",
   "metadata": {},
   "outputs": [],
   "source": [
    "qc = QuantumCircuit(1)\n",
    "qc.x(0)\n",
    "qc.h(0)\n",
    "visualize_transition(qc, trace=True)"
   ]
  },
  {
   "attachments": {},
   "cell_type": "markdown",
   "id": "eef288c6",
   "metadata": {},
   "source": [
    "**S gate**"
   ]
  },
  {
   "cell_type": "code",
   "execution_count": null,
   "id": "1e0d99c1",
   "metadata": {},
   "outputs": [],
   "source": [
    "qc = QuantumCircuit(1)\n",
    "qc.x(0)\n",
    "qc.s(0)\n",
    "visualize_transition(qc, trace=True)"
   ]
  },
  {
   "attachments": {},
   "cell_type": "markdown",
   "id": "6c671215",
   "metadata": {},
   "source": [
    "**T dagger gate**"
   ]
  },
  {
   "cell_type": "code",
   "execution_count": null,
   "metadata": {},
   "outputs": [],
   "source": [
    "qc = QuantumCircuit(1)\n",
    "qc.x(0)\n",
    "qc.tdg(0)\n",
    "visualize_transition(qc, trace=True)"
   ]
  },
  {
   "attachments": {},
   "cell_type": "markdown",
   "id": "b5e2639f",
   "metadata": {},
   "source": [
    "**Rx gate**"
   ]
  },
  {
   "cell_type": "code",
   "execution_count": null,
   "id": "97eceedb",
   "metadata": {},
   "outputs": [],
   "source": [
    "qc = QuantumCircuit(1)\n",
    "qc.rx(pi,0)\n",
    "qc.draw('mpl')"
   ]
  },
  {
   "cell_type": "code",
   "execution_count": null,
   "id": "4a94e285",
   "metadata": {},
   "outputs": [],
   "source": [
    "visualize_transition(qc, trace=True)"
   ]
  }
 ],
 "metadata": {
  "kernelspec": {
   "display_name": "Python 3",
   "language": "python",
   "name": "python3"
  },
  "language_info": {
   "codemirror_mode": {
    "name": "ipython",
    "version": 3
   },
   "file_extension": ".py",
   "mimetype": "text/x-python",
   "name": "python",
   "nbconvert_exporter": "python",
   "pygments_lexer": "ipython3",
   "version": "3.9.5 (default, Mar  1 2023, 16:47:03) \n[Clang 12.0.0 (clang-1200.0.31.1)]"
  },
  "vscode": {
   "interpreter": {
    "hash": "a31ddb017d0068839d50233361dec3791b4543c1616ced57751b70bba5489ab3"
   }
  }
 },
 "nbformat": 4,
 "nbformat_minor": 5
}
